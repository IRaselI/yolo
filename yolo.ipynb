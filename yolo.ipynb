{
 "cells": [
  {
   "cell_type": "code",
   "execution_count": 1,
   "id": "initial_id",
   "metadata": {
    "collapsed": true,
    "ExecuteTime": {
     "end_time": "2024-02-26T17:41:25.605188Z",
     "start_time": "2024-02-26T17:41:24.033456Z"
    }
   },
   "outputs": [],
   "source": [
    "from ultralytics import YOLO\n",
    "import torch\n",
    "from PIL import Image"
   ]
  },
  {
   "cell_type": "code",
   "outputs": [],
   "source": [
    "device = 'cuda' if torch.cuda.is_available() else 'cpu'"
   ],
   "metadata": {
    "collapsed": false
   },
   "id": "3aed4a2880f6be5d"
  },
  {
   "cell_type": "code",
   "outputs": [],
   "source": [
    "model = YOLO('yolov8n.pt')"
   ],
   "metadata": {
    "collapsed": false
   },
   "id": "d72e278f0210eec0"
  },
  {
   "cell_type": "code",
   "outputs": [],
   "source": [
    "results = model.train(data='data.yaml', epochs=2, imgsz=640, device=device, plots=True)"
   ],
   "metadata": {
    "collapsed": false
   },
   "id": "8b5ba3b504b96b"
  },
  {
   "cell_type": "code",
   "outputs": [],
   "source": [
    "results = model.val(device=device, plots=True)"
   ],
   "metadata": {
    "collapsed": false
   },
   "id": "85ab01abb750c1cc"
  },
  {
   "cell_type": "code",
   "outputs": [],
   "source": [
    "Image.open('runs/detect/train/results.png')"
   ],
   "metadata": {
    "collapsed": false
   },
   "id": "35c2a2d4dc78b57"
  },
  {
   "cell_type": "code",
   "outputs": [],
   "source": [
    "Image.open('runs/detect/train/confusion_matrix.png')"
   ],
   "metadata": {
    "collapsed": false
   },
   "id": "aed942cd48fec8ad"
  },
  {
   "cell_type": "code",
   "outputs": [],
   "source": [
    "model = YOLO('runs/detect/train/weights/best.pt')"
   ],
   "metadata": {
    "collapsed": false
   },
   "id": "df5a7a9a2737cc97"
  },
  {
   "cell_type": "code",
   "outputs": [],
   "source": [
    "results = model.predict('path', imgsz=640, device=device, save=True, save_txt=True)"
   ],
   "metadata": {
    "collapsed": false
   },
   "id": "5dd7562920149b20"
  }
 ],
 "metadata": {
  "kernelspec": {
   "display_name": "Python 3",
   "language": "python",
   "name": "python3"
  },
  "language_info": {
   "codemirror_mode": {
    "name": "ipython",
    "version": 2
   },
   "file_extension": ".py",
   "mimetype": "text/x-python",
   "name": "python",
   "nbconvert_exporter": "python",
   "pygments_lexer": "ipython2",
   "version": "2.7.6"
  }
 },
 "nbformat": 4,
 "nbformat_minor": 5
}
